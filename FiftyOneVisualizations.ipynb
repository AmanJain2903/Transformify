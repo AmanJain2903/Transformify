{
 "cells": [
  {
   "cell_type": "markdown",
   "metadata": {},
   "source": [
    "# DATASET VISUALIZATION WITH FIFTY ONE"
   ]
  },
  {
   "cell_type": "code",
   "execution_count": 1,
   "metadata": {},
   "outputs": [],
   "source": [
    "# ! pip install fiftyone       "
   ]
  },
  {
   "cell_type": "code",
   "execution_count": 7,
   "metadata": {},
   "outputs": [],
   "source": [
    "import fiftyone as fo\n",
    "import os\n",
    "import pandas as pd"
   ]
  },
  {
   "cell_type": "markdown",
   "metadata": {},
   "source": [
    "## Loading The Dataset"
   ]
  },
  {
   "cell_type": "code",
   "execution_count": 9,
   "metadata": {},
   "outputs": [],
   "source": [
    "dataFrame = pd.read_csv('Dataset/labels.csv')\n",
    "ID2LABEL = {}\n",
    "for i, j in dataFrame.iterrows():\n",
    "    if i==0:\n",
    "        ID2LABEL[i] = 'nan'\n",
    "    else:\n",
    "        ID2LABEL[i] = j['label_list']"
   ]
  },
  {
   "cell_type": "code",
   "execution_count": 6,
   "metadata": {},
   "outputs": [
    {
     "name": "stdout",
     "output_type": "stream",
     "text": [
      " 100% |███████████████████| 77/77 [34.6ms elapsed, 0s remaining, 2.2K samples/s]      \n",
      "Name:        Validation-Clothing-Dataset\n",
      "Media type:  image\n",
      "Num samples: 77\n",
      "Persistent:  False\n",
      "Tags:        []\n",
      "Sample fields:\n",
      "    id:               fiftyone.core.fields.ObjectIdField\n",
      "    filepath:         fiftyone.core.fields.StringField\n",
      "    tags:             fiftyone.core.fields.ListField(fiftyone.core.fields.StringField)\n",
      "    metadata:         fiftyone.core.fields.EmbeddedDocumentField(fiftyone.core.metadata.ImageMetadata)\n",
      "    created_at:       fiftyone.core.fields.DateTimeField\n",
      "    last_modified_at: fiftyone.core.fields.DateTimeField\n",
      "    ground_truth:     fiftyone.core.fields.EmbeddedDocumentField(fiftyone.core.labels.Segmentation)\n",
      "[<Sample: {\n",
      "    'id': '67a85a3d38d454199c663e1d',\n",
      "    'media_type': 'image',\n",
      "    'filepath': '/Users/aman/Documents/Work/Machine Learning/Computer-Vision-TensorFlow/Virtual-Cloth-TryOn-Image-Segmentation/ValDataset/png_images/IMAGES/img_0003.png',\n",
      "    'tags': [],\n",
      "    'metadata': None,\n",
      "    'created_at': datetime.datetime(2025, 2, 9, 7, 33, 17, 676000),\n",
      "    'last_modified_at': datetime.datetime(2025, 2, 9, 7, 33, 17, 676000),\n",
      "    'ground_truth': <Segmentation: {\n",
      "        'id': '67a85a3d38d454199c663e1c',\n",
      "        'tags': [],\n",
      "        'mask': None,\n",
      "        'mask_path': '/Users/aman/Documents/Work/Machine Learning/Computer-Vision-TensorFlow/Virtual-Cloth-TryOn-Image-Segmentation/ValDataset/png_masks/MASKS/img_0003.png',\n",
      "    }>,\n",
      "}>, <Sample: {\n",
      "    'id': '67a85a3d38d454199c663e26',\n",
      "    'media_type': 'image',\n",
      "    'filepath': '/Users/aman/Documents/Work/Machine Learning/Computer-Vision-TensorFlow/Virtual-Cloth-TryOn-Image-Segmentation/ValDataset/png_images/IMAGES/img_0010.png',\n",
      "    'tags': [],\n",
      "    'metadata': None,\n",
      "    'created_at': datetime.datetime(2025, 2, 9, 7, 33, 17, 679000),\n",
      "    'last_modified_at': datetime.datetime(2025, 2, 9, 7, 33, 17, 679000),\n",
      "    'ground_truth': <Segmentation: {\n",
      "        'id': '67a85a3d38d454199c663e1e',\n",
      "        'tags': [],\n",
      "        'mask': None,\n",
      "        'mask_path': '/Users/aman/Documents/Work/Machine Learning/Computer-Vision-TensorFlow/Virtual-Cloth-TryOn-Image-Segmentation/ValDataset/png_masks/MASKS/img_0010.png',\n",
      "    }>,\n",
      "}>, <Sample: {\n",
      "    'id': '67a85a3d38d454199c663e27',\n",
      "    'media_type': 'image',\n",
      "    'filepath': '/Users/aman/Documents/Work/Machine Learning/Computer-Vision-TensorFlow/Virtual-Cloth-TryOn-Image-Segmentation/ValDataset/png_images/IMAGES/img_0018.png',\n",
      "    'tags': [],\n",
      "    'metadata': None,\n",
      "    'created_at': datetime.datetime(2025, 2, 9, 7, 33, 17, 679000),\n",
      "    'last_modified_at': datetime.datetime(2025, 2, 9, 7, 33, 17, 679000),\n",
      "    'ground_truth': <Segmentation: {\n",
      "        'id': '67a85a3d38d454199c663e1f',\n",
      "        'tags': [],\n",
      "        'mask': None,\n",
      "        'mask_path': '/Users/aman/Documents/Work/Machine Learning/Computer-Vision-TensorFlow/Virtual-Cloth-TryOn-Image-Segmentation/ValDataset/png_masks/MASKS/img_0018.png',\n",
      "    }>,\n",
      "}>]\n"
     ]
    }
   ],
   "source": [
    "name = 'Validation-Clothing-Dataset'\n",
    "dataPath = 'ValDataset/png_images/IMAGES/'\n",
    "labelsPath = 'ValDataset/png_masks/MASKS/'\n",
    "\n",
    "dataset = fo.Dataset.from_dir(\n",
    "    data_path=dataPath,\n",
    "    labels_path=labelsPath,\n",
    "    dataset_type=fo.types.ImageSegmentationDirectory,\n",
    "    name=name,\n",
    ")\n",
    "\n",
    "print(dataset)\n",
    "print(dataset.head())"
   ]
  },
  {
   "cell_type": "code",
   "execution_count": 10,
   "metadata": {},
   "outputs": [
    {
     "data": {
      "text/html": [
       "\n",
       "        <iframe\n",
       "            width=\"100%\"\n",
       "            height=\"800\"\n",
       "            src=\"http://localhost:5151/?notebook=True&subscription=af0e3fa3-c914-453d-937a-cae120f8323e\"\n",
       "            frameborder=\"0\"\n",
       "            allowfullscreen\n",
       "            \n",
       "        ></iframe>\n",
       "        "
      ],
      "text/plain": [
       "<IPython.lib.display.IFrame at 0x3205ebcd0>"
      ]
     },
     "metadata": {},
     "output_type": "display_data"
    }
   ],
   "source": [
    "dataset.default_mask_targets = ID2LABEL\n",
    "session = fo.launch_app(dataset)"
   ]
  },
  {
   "cell_type": "code",
   "execution_count": null,
   "metadata": {},
   "outputs": [],
   "source": []
  }
 ],
 "metadata": {
  "kernelspec": {
   "display_name": "ComputerVision",
   "language": "python",
   "name": "python3"
  },
  "language_info": {
   "codemirror_mode": {
    "name": "ipython",
    "version": 3
   },
   "file_extension": ".py",
   "mimetype": "text/x-python",
   "name": "python",
   "nbconvert_exporter": "python",
   "pygments_lexer": "ipython3",
   "version": "3.11.11"
  }
 },
 "nbformat": 4,
 "nbformat_minor": 2
}
